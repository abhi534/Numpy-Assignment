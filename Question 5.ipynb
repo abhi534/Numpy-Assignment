{
 "cells": [
  {
   "cell_type": "code",
   "execution_count": 1,
   "id": "c11dd7cd",
   "metadata": {},
   "outputs": [
    {
     "name": "stdout",
     "output_type": "stream",
     "text": [
      "[1 2]\n",
      "[4 5]\n",
      "The Dot Product is:  14\n"
     ]
    }
   ],
   "source": [
    "# Find Dot product of two arrays: f = np.array([1,2])g = np.array([4,5])\n",
    "\n",
    "import numpy as np\n",
    "f = np.array([1,2]) \n",
    "g = np.array([4,5])\n",
    "print(f)\n",
    "print(g)\n",
    "a=np.dot(f,g)\n",
    "print(\"The Dot Product is: \",a)"
   ]
  },
  {
   "cell_type": "code",
   "execution_count": null,
   "id": "59c1d020",
   "metadata": {},
   "outputs": [],
   "source": []
  }
 ],
 "metadata": {
  "kernelspec": {
   "display_name": "Python 3 (ipykernel)",
   "language": "python",
   "name": "python3"
  },
  "language_info": {
   "codemirror_mode": {
    "name": "ipython",
    "version": 3
   },
   "file_extension": ".py",
   "mimetype": "text/x-python",
   "name": "python",
   "nbconvert_exporter": "python",
   "pygments_lexer": "ipython3",
   "version": "3.9.5"
  }
 },
 "nbformat": 4,
 "nbformat_minor": 5
}

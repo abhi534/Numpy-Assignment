{
 "cells": [
  {
   "cell_type": "code",
   "execution_count": 3,
   "id": "17c697e5",
   "metadata": {},
   "outputs": [
    {
     "name": "stdout",
     "output_type": "stream",
     "text": [
      "The orignal array: \n",
      "[[862 632 578 628 135 422 707 877 910 512]\n",
      " [813 446 727 727 294   2 657 722 107  90]\n",
      " [144 469 686 123 767  75  89 294 559 312]\n",
      " [807  76 249 802 534 199 218 319 344 863]\n",
      " [261  65 923 522 805 304 743 391 555 429]\n",
      " [877 444 481 145 668  84 757 992 887 621]\n",
      " [465 903 690 168 735 653 531 511 598 315]\n",
      " [415 972 728 812 771 374 629 640 481 784]\n",
      " [219 180 435  38 222 906 361 571 509 859]\n",
      " [749 479 248 616 774 322 753 294 282  50]]\n",
      "Minimum Value : 2\n",
      "Maximum Value:  992\n"
     ]
    }
   ],
   "source": [
    "# Create a 10x10 array with random values and find the minimum and maximum values.\n",
    "\n",
    "import numpy as np\n",
    "from numpy import random\n",
    "a = random.randint(1000,size=(10,10))\n",
    "print(\"The orignal array: \")\n",
    "print(a)\n",
    "amin,amax=a.min(),a.max()\n",
    "print(\"Minimum Value :\",amin)\n",
    "print(\"Maximum Value: \",amax)"
   ]
  },
  {
   "cell_type": "code",
   "execution_count": null,
   "id": "0067e551",
   "metadata": {},
   "outputs": [],
   "source": []
  }
 ],
 "metadata": {
  "kernelspec": {
   "display_name": "Python 3 (ipykernel)",
   "language": "python",
   "name": "python3"
  },
  "language_info": {
   "codemirror_mode": {
    "name": "ipython",
    "version": 3
   },
   "file_extension": ".py",
   "mimetype": "text/x-python",
   "name": "python",
   "nbconvert_exporter": "python",
   "pygments_lexer": "ipython3",
   "version": "3.9.5"
  }
 },
 "nbformat": 4,
 "nbformat_minor": 5
}

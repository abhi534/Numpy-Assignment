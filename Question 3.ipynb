{
 "cells": [
  {
   "cell_type": "code",
   "execution_count": 2,
   "id": "973817e8",
   "metadata": {},
   "outputs": [
    {
     "name": "stdout",
     "output_type": "stream",
     "text": [
      "Insert 1 to 100 numbers in a numpy array and reshape it to 10*10 matrix:  [[61 97 81 16  6 88  6 72 98 72]\n",
      " [ 8 88 45 42 67 36 86 89 63 15]\n",
      " [19 94 98 52 63 56 38 61 67 34]\n",
      " [38 91 89 89 87 53 93 20 51 47]\n",
      " [12 58 72 64 43 46 58 40 59 31]\n",
      " [15 24 45 70 72 25 26 93  6 44]\n",
      " [54 59 79 36 73 11 10 16 48 55]\n",
      " [69 88 54 39 28 84  4 49  1 16]\n",
      " [ 4 93 87 13 43 53 62 90 20 48]\n",
      " [74  7 50  9 29 14 43 94 91 40]]\n"
     ]
    }
   ],
   "source": [
    "#Insert 1 to 100 numbers in a numpy array and reshape it to 10*10 matrix.\n",
    "\n",
    "import numpy as np\n",
    "from numpy import random\n",
    "x = random.randint(100, size=(10,10))\n",
    "print(\"Insert 1 to 100 numbers in a numpy array and reshape it to 10*10 matrix: \",x)"
   ]
  },
  {
   "cell_type": "code",
   "execution_count": null,
   "id": "71870869",
   "metadata": {},
   "outputs": [],
   "source": []
  }
 ],
 "metadata": {
  "kernelspec": {
   "display_name": "Python 3 (ipykernel)",
   "language": "python",
   "name": "python3"
  },
  "language_info": {
   "codemirror_mode": {
    "name": "ipython",
    "version": 3
   },
   "file_extension": ".py",
   "mimetype": "text/x-python",
   "name": "python",
   "nbconvert_exporter": "python",
   "pygments_lexer": "ipython3",
   "version": "3.9.5"
  }
 },
 "nbformat": 4,
 "nbformat_minor": 5
}

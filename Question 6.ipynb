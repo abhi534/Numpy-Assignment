{
 "cells": [
  {
   "cell_type": "code",
   "execution_count": 1,
   "id": "0817b9b1",
   "metadata": {},
   "outputs": [
    {
     "name": "stdout",
     "output_type": "stream",
     "text": [
      "Concatinating string:  [[1 2]\n",
      " [3 4]\n",
      " [5 6]]\n"
     ]
    }
   ],
   "source": [
    "# Concatenate following arrays along axis=0\n",
    "# Ans: x=np.array([[1,2],[3,4]]) y=np.array([[5,6]])\n",
    "\n",
    "import numpy as np\n",
    "x=np.array([[1,2],[3,4]])\n",
    "y=np.array([[5,6]])\n",
    "a=np.concatenate((x,y),axis=0)\n",
    "print(\"Concatinating string: \",a)"
   ]
  },
  {
   "cell_type": "code",
   "execution_count": null,
   "id": "31d2ac13",
   "metadata": {},
   "outputs": [],
   "source": []
  }
 ],
 "metadata": {
  "kernelspec": {
   "display_name": "Python 3 (ipykernel)",
   "language": "python",
   "name": "python3"
  },
  "language_info": {
   "codemirror_mode": {
    "name": "ipython",
    "version": 3
   },
   "file_extension": ".py",
   "mimetype": "text/x-python",
   "name": "python",
   "nbconvert_exporter": "python",
   "pygments_lexer": "ipython3",
   "version": "3.9.5"
  }
 },
 "nbformat": 4,
 "nbformat_minor": 5
}

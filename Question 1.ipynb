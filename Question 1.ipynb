{
 "cells": [
  {
   "cell_type": "code",
   "execution_count": 1,
   "id": "efa6243e",
   "metadata": {},
   "outputs": [
    {
     "name": "stdout",
     "output_type": "stream",
     "text": [
      "Generate array of 25 random numbers sampled from a standard normal distribution\n"
     ]
    },
    {
     "data": {
      "text/plain": [
       "array([ 1.14550171,  1.20466302, -0.54434909,  0.40802926,  0.97956326,\n",
       "       -1.61791423,  0.1148431 ,  0.46112533, -0.29702911,  0.62314401,\n",
       "       -0.53632862, -0.18646643,  0.22781221,  0.1908749 , -0.66440974,\n",
       "        0.02738455,  0.64350941,  0.11987918,  0.56920927,  1.22637796,\n",
       "       -0.36662819, -0.77013393, -0.48971784,  0.97414844,  0.0810472 ])"
      ]
     },
     "execution_count": 1,
     "metadata": {},
     "output_type": "execute_result"
    }
   ],
   "source": [
    "#Use numpy to generate array of 25 random numbers sampled from a standard normal distribution\n",
    "\n",
    "import numpy as np\n",
    "a_range=np.random.normal(0,1,25)\n",
    "print(\"Generate array of 25 random numbers sampled from a standard normal distribution\")\n",
    "a_range"
   ]
  },
  {
   "cell_type": "code",
   "execution_count": null,
   "id": "96a73515",
   "metadata": {},
   "outputs": [],
   "source": []
  }
 ],
 "metadata": {
  "kernelspec": {
   "display_name": "Python 3 (ipykernel)",
   "language": "python",
   "name": "python3"
  },
  "language_info": {
   "codemirror_mode": {
    "name": "ipython",
    "version": 3
   },
   "file_extension": ".py",
   "mimetype": "text/x-python",
   "name": "python",
   "nbconvert_exporter": "python",
   "pygments_lexer": "ipython3",
   "version": "3.9.5"
  }
 },
 "nbformat": 4,
 "nbformat_minor": 5
}

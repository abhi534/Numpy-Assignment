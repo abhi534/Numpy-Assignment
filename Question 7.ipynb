{
 "cells": [
  {
   "cell_type": "code",
   "execution_count": 1,
   "id": "46f064e0",
   "metadata": {},
   "outputs": [
    {
     "name": "stdout",
     "output_type": "stream",
     "text": [
      "The common items are:  [2 4]\n"
     ]
    }
   ],
   "source": [
    "# How to get the common items between two python numpy arrays?\n",
    "# a = np.array([1,2,3,2,3,4,3,4,5,6])\n",
    "# b = np.array([7,2,10,2,7,4,9,4,9,8])\n",
    "\n",
    "import numpy as np\n",
    "a = np.array([1,2,3,2,3,4,3,4,5,6])\n",
    "b = np.array([7,2,10,2,7,4,9,4,9,8])\n",
    "print(\"The common items are: \",np.intersect1d(a,b))"
   ]
  },
  {
   "cell_type": "code",
   "execution_count": null,
   "id": "a4749fac",
   "metadata": {},
   "outputs": [],
   "source": []
  }
 ],
 "metadata": {
  "kernelspec": {
   "display_name": "Python 3 (ipykernel)",
   "language": "python",
   "name": "python3"
  },
  "language_info": {
   "codemirror_mode": {
    "name": "ipython",
    "version": 3
   },
   "file_extension": ".py",
   "mimetype": "text/x-python",
   "name": "python",
   "nbconvert_exporter": "python",
   "pygments_lexer": "ipython3",
   "version": "3.9.5"
  }
 },
 "nbformat": 4,
 "nbformat_minor": 5
}
